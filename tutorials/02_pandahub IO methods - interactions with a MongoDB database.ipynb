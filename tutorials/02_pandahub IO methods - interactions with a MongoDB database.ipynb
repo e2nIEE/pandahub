{
 "cells": [
  {
   "cell_type": "markdown",
   "metadata": {},
   "source": [
    "## pandahub IO methods\n",
    "\n",
    "This tutorial briefly demonstrates how to use the pandahub IO methods. This includes high level functions for commonly used database interactions like reading and writing grid data or timeseries data from/to a MongoDB database. pandahub IO methods do not need any additional configuration. Just call a pandahub API object (see the '01_pandahub API - interaction with a MongoDB database tutorial') and directly use its IO interaction methods.\n",
    "\n",
    ">**Note**\n",
    ">\n",
    ">To run this tutorial you need a config file containing the database server URL and authentification information (For more information check out the tutorial '01_pandahub API - interaction with a MongoDB database tutorial')"
   ]
  },
  {
   "cell_type": "markdown",
   "metadata": {},
   "source": [
    "# 1. Call pandahub api"
   ]
  },
  {
   "cell_type": "code",
   "execution_count": 1,
   "metadata": {},
   "outputs": [
    {
     "name": "stderr",
     "output_type": "stream",
     "text": [
      "hp.pandapower.plotting.plotly.traces - INFO: Failed to import plotly - interactive plotting will not be available\n"
     ]
    }
   ],
   "source": [
    "# At first we need to call a pandahub API object\n",
    "import pandahub as ph\n",
    "from config import MONGODB_URL\n",
    "\n",
    "ph_api = ph.PandaHub(connection_url=MONGODB_URL)"
   ]
  },
  {
   "cell_type": "markdown",
   "metadata": {},
   "source": [
    "In a next step, check if your project, you want to interact with, exists. If so, we activate the particular project:"
   ]
  },
  {
   "cell_type": "code",
   "execution_count": 2,
   "metadata": {},
   "outputs": [
    {
     "data": {
      "text/plain": [
       "True"
      ]
     },
     "execution_count": 2,
     "metadata": {},
     "output_type": "execute_result"
    }
   ],
   "source": [
    "ph_api.project_exists('MyAwesomeFirstProject')"
   ]
  },
  {
   "cell_type": "code",
   "execution_count": 3,
   "metadata": {},
   "outputs": [],
   "source": [
    "ph_api.set_active_project_by_id('62628cc101c2825d4fcc7c27')"
   ]
  },
  {
   "cell_type": "markdown",
   "metadata": {},
   "source": [
    "In the next section, you finally are able to work with your database."
   ]
  },
  {
   "cell_type": "markdown",
   "metadata": {},
   "source": [
    "# 2. Interaction with the MongoDB database"
   ]
  },
  {
   "cell_type": "markdown",
   "metadata": {},
   "source": [
    "This is an example how to write and read a pandapower/pandapipes net as well as timeseries data. If return_id is set to True the method returns the unique identifier of the document that is written to the database. You can also add custom kwargs."
   ]
  },
  {
   "cell_type": "markdown",
   "metadata": {},
   "source": [
    "### Write/Read a pandapower/pandapipes net"
   ]
  },
  {
   "cell_type": "code",
   "execution_count": null,
   "metadata": {},
   "outputs": [],
   "source": []
  },
  {
   "cell_type": "markdown",
   "metadata": {},
   "source": [
    "### Write/Read a time series"
   ]
  },
  {
   "cell_type": "code",
   "execution_count": null,
   "metadata": {},
   "outputs": [],
   "source": []
  },
  {
   "cell_type": "code",
   "execution_count": 6,
   "metadata": {},
   "outputs": [
    {
     "ename": "PandaHubError",
     "evalue": "No project is activated",
     "output_type": "error",
     "traceback": [
      "\u001B[1;31m---------------------------------------------------------------------------\u001B[0m",
      "\u001B[1;31mPandaHubError\u001B[0m                             Traceback (most recent call last)",
      "Input \u001B[1;32mIn [6]\u001B[0m, in \u001B[0;36m<cell line: 4>\u001B[1;34m()\u001B[0m\n\u001B[0;32m      2\u001B[0m \u001B[38;5;28;01mimport\u001B[39;00m \u001B[38;5;21;01mnumpy\u001B[39;00m \u001B[38;5;28;01mas\u001B[39;00m \u001B[38;5;21;01mnp\u001B[39;00m\n\u001B[0;32m      3\u001B[0m timeseries_data \u001B[38;5;241m=\u001B[39m pd\u001B[38;5;241m.\u001B[39mSeries(np\u001B[38;5;241m.\u001B[39mrandom\u001B[38;5;241m.\u001B[39mrandom(\u001B[38;5;241m35040\u001B[39m))\n\u001B[1;32m----> 4\u001B[0m document_id \u001B[38;5;241m=\u001B[39m \u001B[43mph_api\u001B[49m\u001B[38;5;241;43m.\u001B[39;49m\u001B[43mwrite_timeseries_to_db\u001B[49m\u001B[43m(\u001B[49m\u001B[43mtimeseries_data\u001B[49m\u001B[43m,\u001B[49m\u001B[43m \u001B[49m\u001B[43mdata_type\u001B[49m\u001B[38;5;241;43m=\u001B[39;49m\u001B[38;5;124;43m\"\u001B[39;49m\u001B[38;5;124;43mp_mw\u001B[39;49m\u001B[38;5;124;43m\"\u001B[39;49m\u001B[43m,\u001B[49m\n\u001B[0;32m      5\u001B[0m \u001B[43m                                              \u001B[49m\u001B[43mcollection_name\u001B[49m\u001B[38;5;241;43m=\u001B[39;49m\u001B[38;5;124;43m\"\u001B[39;49m\u001B[38;5;124;43mtimeseries_data\u001B[39;49m\u001B[38;5;124;43m\"\u001B[39;49m\u001B[43m,\u001B[49m\u001B[43m \u001B[49m\u001B[43mreturn_id\u001B[49m\u001B[38;5;241;43m=\u001B[39;49m\u001B[38;5;28;43;01mTrue\u001B[39;49;00m\u001B[43m)\u001B[49m\n",
      "File \u001B[1;32m~\\git\\pandahub\\pandahub\\lib\\PandaHub.py:922\u001B[0m, in \u001B[0;36mPandaHub.write_timeseries_to_db\u001B[1;34m(self, timeseries, data_type, element_type, netname, element_index, name, global_database, collection_name, project_id, **kwargs)\u001B[0m\n\u001B[0;32m    920\u001B[0m     db \u001B[38;5;241m=\u001B[39m \u001B[38;5;28mself\u001B[39m\u001B[38;5;241m.\u001B[39m_get_global_database()\n\u001B[0;32m    921\u001B[0m \u001B[38;5;28;01melse\u001B[39;00m:\n\u001B[1;32m--> 922\u001B[0m     \u001B[38;5;28;43mself\u001B[39;49m\u001B[38;5;241;43m.\u001B[39;49m\u001B[43mcheck_permission\u001B[49m\u001B[43m(\u001B[49m\u001B[38;5;124;43m\"\u001B[39;49m\u001B[38;5;124;43mwrite\u001B[39;49m\u001B[38;5;124;43m\"\u001B[39;49m\u001B[43m)\u001B[49m\n\u001B[0;32m    923\u001B[0m     db \u001B[38;5;241m=\u001B[39m \u001B[38;5;28mself\u001B[39m\u001B[38;5;241m.\u001B[39m_get_project_database()\n\u001B[0;32m    924\u001B[0m document \u001B[38;5;241m=\u001B[39m create_timeseries_document(timeseries\u001B[38;5;241m=\u001B[39mtimeseries,\n\u001B[0;32m    925\u001B[0m                                       data_type\u001B[38;5;241m=\u001B[39mdata_type,\n\u001B[0;32m    926\u001B[0m                                       element_type\u001B[38;5;241m=\u001B[39melement_type,\n\u001B[1;32m   (...)\u001B[0m\n\u001B[0;32m    929\u001B[0m                                       name\u001B[38;5;241m=\u001B[39mname,\n\u001B[0;32m    930\u001B[0m                                       \u001B[38;5;241m*\u001B[39m\u001B[38;5;241m*\u001B[39mkwargs)\n",
      "File \u001B[1;32m~\\git\\pandahub\\pandahub\\lib\\PandaHub.py:93\u001B[0m, in \u001B[0;36mPandaHub.check_permission\u001B[1;34m(self, permission)\u001B[0m\n\u001B[0;32m     91\u001B[0m \u001B[38;5;28;01mdef\u001B[39;00m \u001B[38;5;21mcheck_permission\u001B[39m(\u001B[38;5;28mself\u001B[39m, permission):\n\u001B[0;32m     92\u001B[0m     \u001B[38;5;28;01mif\u001B[39;00m \u001B[38;5;28mself\u001B[39m\u001B[38;5;241m.\u001B[39mactive_project \u001B[38;5;129;01mis\u001B[39;00m \u001B[38;5;28;01mNone\u001B[39;00m:\n\u001B[1;32m---> 93\u001B[0m         \u001B[38;5;28;01mraise\u001B[39;00m PandaHubError(\u001B[38;5;124m\"\u001B[39m\u001B[38;5;124mNo project is activated\u001B[39m\u001B[38;5;124m\"\u001B[39m)\n\u001B[0;32m     94\u001B[0m     \u001B[38;5;28;01mif\u001B[39;00m \u001B[38;5;129;01mnot\u001B[39;00m \u001B[38;5;28mself\u001B[39m\u001B[38;5;241m.\u001B[39mhas_permission(permission):\n\u001B[0;32m     95\u001B[0m         \u001B[38;5;28;01mraise\u001B[39;00m PandaHubError(\u001B[38;5;124m\"\u001B[39m\u001B[38;5;124mYou don\u001B[39m\u001B[38;5;124m'\u001B[39m\u001B[38;5;124mt have \u001B[39m\u001B[38;5;132;01m{}\u001B[39;00m\u001B[38;5;124m rights on this project\u001B[39m\u001B[38;5;124m\"\u001B[39m\u001B[38;5;241m.\u001B[39mformat(permission), \u001B[38;5;241m403\u001B[39m)\n",
      "\u001B[1;31mPandaHubError\u001B[0m: No project is activated"
     ]
    }
   ],
   "source": [
    "import pandas as pd\n",
    "import numpy as np\n",
    "timeseries_data = pd.Series(np.random.random(35040))\n",
    "document_id = ph_api.write_timeseries_to_db(timeseries_data, data_type=\"p_mw\",\n",
    "                                              collection_name=\"timeseries_data\", return_id=True)"
   ]
  },
  {
   "cell_type": "code",
   "execution_count": 5,
   "metadata": {},
   "outputs": [
    {
     "data": {
      "text/plain": [
       "0        0.381588\n",
       "1        0.035058\n",
       "2        0.975626\n",
       "3        0.708254\n",
       "4        0.622388\n",
       "           ...   \n",
       "35035    0.182994\n",
       "35036    0.095744\n",
       "35037    0.814569\n",
       "35038    0.081234\n",
       "35039    0.121295\n",
       "Length: 35040, dtype: float64"
      ]
     },
     "execution_count": 5,
     "metadata": {},
     "output_type": "execute_result"
    }
   ],
   "source": [
    "# we can retrieve this timeseries by querying for a specific combination of metadata...\n",
    "ph_api.get_timeseries_from_db(data_type=\"p_mw\", timeseries_name=\"test_timeseries\", collection_name=\"timeseries_data\")"
   ]
  },
  {
   "cell_type": "code",
   "execution_count": 6,
   "metadata": {},
   "outputs": [
    {
     "data": {
      "text/plain": [
       "0        0.381588\n",
       "1        0.035058\n",
       "2        0.975626\n",
       "3        0.708254\n",
       "4        0.622388\n",
       "           ...   \n",
       "35035    0.182994\n",
       "35036    0.095744\n",
       "35037    0.814569\n",
       "35038    0.081234\n",
       "35039    0.121295\n",
       "Length: 35040, dtype: float64"
      ]
     },
     "execution_count": 6,
     "metadata": {},
     "output_type": "execute_result"
    }
   ],
   "source": [
    "# ...or by _id.\n",
    "ph_api.get_timeseries_from_db(_id=document_id, collection_name=\"timeseries_data\")"
   ]
  },
  {
   "cell_type": "code",
   "execution_count": 7,
   "metadata": {},
   "outputs": [
    {
     "data": {
      "text/plain": [
       "0        0.381588\n",
       "1        0.035058\n",
       "2        0.975626\n",
       "3        0.708254\n",
       "4        0.622388\n",
       "           ...   \n",
       "35035    0.182994\n",
       "35036    0.095744\n",
       "35037    0.814569\n",
       "35038    0.081234\n",
       "35039    0.121295\n",
       "Length: 35040, dtype: float64"
      ]
     },
     "execution_count": 7,
     "metadata": {},
     "output_type": "execute_result"
    }
   ],
   "source": [
    "# It is also possible to provide a single filter document\n",
    "ph_api.get_timeseries_from_db(filter_document={\"data_type\": \"p_mw\",\n",
    "                                                 \"timeseries_name\": \"test_timeseries\"},\n",
    "                                collection_name=\"timeseries_data\")"
   ]
  },
  {
   "cell_type": "code",
   "execution_count": 8,
   "metadata": {},
   "outputs": [
    {
     "data": {
      "text/plain": [
       "{'_id': 'FrpbXkqTOzOvrc6ie-RofDma_5R7bbHLQN6f5T9OSBw=',\n",
       " 'data_type': 'p_mw',\n",
       " 'first_timestamp': 0,\n",
       " 'last_timestamp': 35039,\n",
       " 'num_timestamps': 35040,\n",
       " 'timeseries_name': 'test_timeseries',\n",
       " 'timeseries_data': 0        0.381588\n",
       " 1        0.035058\n",
       " 2        0.975626\n",
       " 3        0.708254\n",
       " 4        0.622388\n",
       "            ...   \n",
       " 35035    0.182994\n",
       " 35036    0.095744\n",
       " 35037    0.814569\n",
       " 35038    0.081234\n",
       " 35039    0.121295\n",
       " Length: 35040, dtype: float64}"
      ]
     },
     "execution_count": 8,
     "metadata": {},
     "output_type": "execute_result"
    }
   ],
   "source": [
    "# ...or to inlude the document's metadata in the query result.\n",
    "ph_api.get_timeseries_from_db(filter_document={\"data_type\": \"p_mw\",\n",
    "                                                 \"timeseries_name\": \"test_timeseries\"},\n",
    "                                collection_name=\"timeseries_data\",\n",
    "                                include_metadata=True)"
   ]
  }
 ],
 "metadata": {
  "kernelspec": {
   "display_name": "Python 3 (ipykernel)",
   "language": "python",
   "name": "python3"
  },
  "language_info": {
   "codemirror_mode": {
    "name": "ipython",
    "version": 3
   },
   "file_extension": ".py",
   "mimetype": "text/x-python",
   "name": "python",
   "nbconvert_exporter": "python",
   "pygments_lexer": "ipython3",
   "version": "3.8.13"
  }
 },
 "nbformat": 4,
 "nbformat_minor": 4
}