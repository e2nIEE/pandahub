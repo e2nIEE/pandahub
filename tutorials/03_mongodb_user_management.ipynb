{
 "cells": [
  {
   "cell_type": "markdown",
   "id": "18ffb553-b9f9-4a96-90d5-362f4f8b2a34",
   "metadata": {},
   "source": [
    "Pandahub comes with an application level user management. All necessary data is stored in the collection \"user_management\". If pandahub is used via its REST interface, this allows for user authentification via https."
   ]
  },
  {
   "cell_type": "markdown",
   "id": "8154e1c3-a4c1-4dbe-aeb5-894aff5b7646",
   "metadata": {},
   "source": [
    "***However***, you can also use the pandahub API ***without*** running the REST interface. Instead, you can use it just as an convenient API to store network data into a mongo DB.\n",
    "\n",
    "If you still need some control over the access to the data you must fall back on the mongoDB user access management. In the following is a short introduction how this can be accomplished.\n",
    "\n",
    "The following is only necessary if you do not rely on the pandahub application level user management!"
   ]
  },
  {
   "cell_type": "code",
   "execution_count": null,
   "id": "9dc30396-90b0-415a-b365-b6a2d9898596",
   "metadata": {},
   "outputs": [],
   "source": [
    "MONGODB_IP = \"127.0.0.1\"\n",
    "MONGODB_PORT = 27017\n",
    "# we need a user that has the role \"userAdminAnyDatabase\" to be able to see current users and create new users\n",
    "MONGODB_ROOT_USER = \"root\""
   ]
  },
  {
   "cell_type": "code",
   "execution_count": null,
   "id": "631c4cbb-ea3e-4699-be4e-3a692e12df28",
   "metadata": {},
   "outputs": [],
   "source": [
    "import getpass\n",
    "import pandahub\n",
    "\n",
    "print(f\"insert password for user {MONGODB_ROOT_USER}\")\n",
    "MONGODB_URL = f\"mongodb://{MONGODB_ROOT_USER}:{getpass.getpass()}@{MONGODB_IP}:{MONGODB_PORT}\"\n",
    "ph = pandahub.PandaHub(connection_url=MONGODB_URL)"
   ]
  },
  {
   "cell_type": "markdown",
   "id": "1c64e197-abca-40a0-8c9d-3a3d50dfaf2a",
   "metadata": {},
   "source": [
    "In order to list existing MongoDB users and theirs respective access rights to the different project databases:"
   ]
  },
  {
   "cell_type": "code",
   "execution_count": null,
   "id": "9a807d84-afd1-4a37-8808-86b0c04449a4",
   "metadata": {},
   "outputs": [],
   "source": [
    "import pandas as pd\n",
    "\n",
    "userlist = ph.mongo_client[\"admin\"][\"system.users\"].find({}, projection={\"user\": 1, \"roles\": 1})\n",
    "users = pd.DataFrame(\n",
    "    [(l[\"user\"], r[\"db\"], r[\"role\"]) for l in userlist for r in l[\"roles\"]],\n",
    "    columns=[\"user\", \"db\", \"role\"],\n",
    ")\n",
    "users[\n",
    "    ~users.db.isin([\"admin\", \"user_management\"])\n",
    "]  # we can exclude some databases for better clarity"
   ]
  },
  {
   "cell_type": "markdown",
   "id": "e46c09db-c0bb-4b32-8a07-fd6e916eca51",
   "metadata": {},
   "source": [
    "We can create new users for existing projects:"
   ]
  },
  {
   "cell_type": "code",
   "execution_count": null,
   "id": "f0a8244e-d4eb-4b42-a003-876e2d02fee0",
   "metadata": {},
   "outputs": [],
   "source": [
    "user = \"<username>\"\n",
    "pwd = \"<password>\"\n",
    "# create a user that has read access to 'user_management' of pandahub\n",
    "ph.mongo_client.admin.command(\n",
    "    \"createUser\", user, pwd=pwd, roles=[{\"role\": \"read\", \"db\": \"user_management\"}]\n",
    ")"
   ]
  },
  {
   "cell_type": "markdown",
   "id": "204e5b7d-853f-4e73-9f01-8f1f4032c1a2",
   "metadata": {},
   "source": [
    "Now we can grant readWrite access to the project database(s)."
   ]
  },
  {
   "cell_type": "code",
   "execution_count": null,
   "id": "edc7d857-52c6-45bc-90da-6f16d555dc1f",
   "metadata": {},
   "outputs": [],
   "source": [
    "project_id = \"<project_id>\"\n",
    "ph.mongo_client.admin.command(\n",
    "    \"grantRolesToUser\", user, roles=[{\"role\": \"readWrite\", \"db\": project_id}]\n",
    ")"
   ]
  },
  {
   "cell_type": "markdown",
   "id": "f4f26f86-f144-4564-b30d-c51f7571ac2b",
   "metadata": {},
   "source": [
    "Remove users entirely via"
   ]
  },
  {
   "cell_type": "code",
   "execution_count": null,
   "id": "549b7e2b-0915-4b38-ab30-a437c7f23fa6",
   "metadata": {},
   "outputs": [],
   "source": [
    "user = \"<username>\"\n",
    "ph.mongo_client.admin.command(\"dropUser\", user)"
   ]
  },
  {
   "cell_type": "code",
   "execution_count": null,
   "id": "60eaf7fe-df95-4679-9238-dd2d7b866f7d",
   "metadata": {},
   "outputs": [],
   "source": []
  }
 ],
 "metadata": {
  "kernelspec": {
   "display_name": "Python 3 (ipykernel)",
   "language": "python",
   "name": "python3"
  },
  "language_info": {
   "codemirror_mode": {
    "name": "ipython",
    "version": 3
   },
   "file_extension": ".py",
   "mimetype": "text/x-python",
   "name": "python",
   "nbconvert_exporter": "python",
   "pygments_lexer": "ipython3",
   "version": "3.10.11"
  }
 },
 "nbformat": 4,
 "nbformat_minor": 5
}
