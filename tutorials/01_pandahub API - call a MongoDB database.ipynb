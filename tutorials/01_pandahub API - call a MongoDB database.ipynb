{
 "cells": [
  {
   "cell_type": "markdown",
   "metadata": {},
   "source": [
    "# pandahub API - interaction with a MongoDB database \n",
    "\n",
    "The pandahub API is a Python interface that enables different ways to use and manage data stored inside a MongoDB database.\n",
    "To work with the mongoDB we use the Python library pymongo.\n",
    "\n",
    ">**Note**\n",
    ">\n",
    ">To run this tutorial, there exist two different ways: Either you already have a running system with a MondoDB instance or\n",
    ">you start a MongoDB instance locally. To initialize a MongoDB locally, follow these instructions\n",
    ">on https://www.mongodb.com/docs/guides/server/install/.\n",
    "\n",
    "## 1. Installation of pandahub\n",
    "\n",
    "In order to use the pandahub API, you can either just run \"pip install pandahub\" or alternatively clone the repo through\n",
    "git running \"git clone https://github.com/e2nIEE/pandahub.git\". If you prefer\n",
    "the second option, you need to set the system PATH accordingly, otherwise your system won't be able to find pandahub."
   ]
  },
  {
   "cell_type": "markdown",
   "metadata": {},
   "source": [
    "## 2. Connection configuration\n",
    "\n",
    "To get connected to your MongoDB, you can use the pandahub API.\n",
    "\n",
    "You can configure your type of connection by passing a path to a config file on initialization of the pandahub API object or by directly providing a connection URL.\n",
    "\n",
    ">**Note**\n",
    ">\n",
    ">Connection configuration by a configuration file is strongly recommended for production environments and when you plan to version control your code. Configuration by connection url will expose your account name and password in scripts, logs and command histories!\n",
    "\n",
    "\n",
    "## 3. Connection to the MongoDB database"
   ]
  },
  {
   "cell_type": "markdown",
   "metadata": {},
   "source": [
    "First we import pandahub:"
   ]
  },
  {
   "cell_type": "code",
   "execution_count": null,
   "metadata": {
    "pycharm": {
     "name": "#%%\n"
    }
   },
   "outputs": [],
   "source": [
    "import pandahub as ph"
   ]
  },
  {
   "cell_type": "markdown",
   "metadata": {},
   "source": [
    "If you have direct access to a mongo database and want to connect to it with the pandahub API, you can use either a connection url or a configuration file:\n",
    "\n",
    ">**Note**\n",
    ">\n",
    ">The config file should NEVER be added to your version control system. Please add it to your .gitignore file.\n"
   ]
  },
  {
   "cell_type": "markdown",
   "metadata": {},
   "source": [
    "**By connection url**"
   ]
  },
  {
   "cell_type": "code",
   "execution_count": null,
   "metadata": {
    "pycharm": {
     "name": "#%% md\n"
    }
   },
   "outputs": [],
   "source": [
    "# If you have a connection url, insert the connection url.\n",
    "try:\n",
    "    ph_api = ph.PandaHub(connection_url=\"mongodb://<user>:<password>@<mongodb_ip>:<port>\")\n",
    "    server_exists = True\n",
    "except ValueError:\n",
    "    print(\"Server does not exist. Try different connection URL\")\n",
    "    server_exists = False"
   ]
  },
  {
   "cell_type": "code",
   "execution_count": null,
   "metadata": {
    "pycharm": {
     "name": "#%% md\n"
    }
   },
   "outputs": [],
   "source": [
    "# Example on your localhost\n",
    "if server_exists:\n",
    "    ph_api = ph.PandaHub(connection_url=\"mongodb://localhost:27017\")"
   ]
  },
  {
   "cell_type": "markdown",
   "metadata": {
    "pycharm": {
     "name": "#%%\n"
    }
   },
   "source": [
    "**By configuration file**"
   ]
  },
  {
   "cell_type": "code",
   "execution_count": null,
   "metadata": {
    "pycharm": {
     "name": "#%% md\n"
    }
   },
   "outputs": [],
   "source": [
    "from config import MONGODB_URL\n",
    "ph_api = ph.PandaHub(connection_url=MONGODB_URL)"
   ]
  },
  {
   "cell_type": "markdown",
   "metadata": {
    "pycharm": {
     "name": "#%%\n"
    }
   },
   "source": [
    ">**Note**\n",
    ">To run our example, the configuration file needs to be a '.py' file and has to contain the variable 'MONGODB_URL'. An exemplary config file can be found in the directory folder. The code needs to look as follows:"
   ]
  },
  {
   "cell_type": "code",
   "execution_count": null,
   "metadata": {
    "pycharm": {
     "name": "#%% md\n"
    }
   },
   "outputs": [],
   "source": [
    "# pandahub API config.py, if you have a connection url\n",
    "MONGODB_URL = \"mongodb://<user>:<password>@<mongodb_ip>:<port>\"\n"
   ]
  },
  {
   "cell_type": "code",
   "execution_count": null,
   "metadata": {
    "pycharm": {
     "name": "#%%\n"
    }
   },
   "outputs": [],
   "source": [
    "# pandahub API config.py for the example on your localhost\n",
    "MONGODB_URL = \"mongodb://localhost:27017\""
   ]
  },
  {
   "cell_type": "markdown",
   "metadata": {},
   "source": [
    "# 4. Create a Project\n"
   ]
  },
  {
   "cell_type": "markdown",
   "metadata": {},
   "source": [
    "In order to save and load your data from a MongoDB database, it is necessary to have a project. If you want to check, whether your project already exists, just type in:"
   ]
  },
  {
   "cell_type": "code",
   "execution_count": null,
   "metadata": {},
   "outputs": [],
   "source": [
    "from pymongo.errors import ServerSelectionTimeoutError\n",
    "\n",
    "try:\n",
    "    print(ph_api.project_exists(\"<name of project>\"))\n",
    "except ServerSelectionTimeoutError:\n",
    "    print(\"It seems you have a connection problem. If you try to do so on your localhost, probably you haven't started the MongoDB yet!\")"
   ]
  },
  {
   "cell_type": "markdown",
   "metadata": {},
   "source": [
    "If your project exists, you can skip this part and continue with the next tutorial. If not, you should create a new project first:"
   ]
  },
  {
   "cell_type": "code",
   "execution_count": null,
   "metadata": {},
   "outputs": [],
   "source": [
    "try:\n",
    "    ph_api.create_project('MyAwesomeFirstProject')\n",
    "except TypeError:\n",
    "    print(\"Don't be confused by this exception. The project is created anyway.\")"
   ]
  },
  {
   "cell_type": "markdown",
   "metadata": {},
   "source": [
    "Now you can check again, whether your project exists now:"
   ]
  },
  {
   "cell_type": "code",
   "execution_count": null,
   "metadata": {},
   "outputs": [],
   "source": [
    "print(ph_api.project_exists(\"MyAwesomeFirstProject\"))"
   ]
  },
  {
   "cell_type": "markdown",
   "metadata": {},
   "source": [
    "Congrats! You created your first project!"
   ]
  }
 ],
 "metadata": {
  "kernelspec": {
   "display_name": "Python 3 (ipykernel)",
   "language": "python",
   "name": "python3"
  },
  "language_info": {
   "codemirror_mode": {
    "name": "ipython",
    "version": 3
   },
   "file_extension": ".py",
   "mimetype": "text/x-python",
   "name": "python",
   "nbconvert_exporter": "python",
   "pygments_lexer": "ipython3",
   "version": "3.8.13"
  }
 },
 "nbformat": 4,
 "nbformat_minor": 2
}
